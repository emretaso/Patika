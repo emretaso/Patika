{
 "cells": [
  {
   "cell_type": "markdown",
   "metadata": {},
   "source": [
    "### Energy Efficiency of Buildings\n",
    "#### 1.Loading Libraries, Data\n",
    "#### 2.Data Summary \n",
    "#### 3.Duplicate, Missing and Outlier Data Detection\n",
    "#### 4.Multiple Linear Regression\n",
    "#### 5.Polynomial Regression\n",
    "#### 6.Support Vector Machine Regression\n",
    "#### 7.Decision Tree Regression\n",
    "#### 8.Random Forest Regression \n",
    "#### 9.Conclusion\n"
   ]
  },
  {
   "cell_type": "markdown",
   "metadata": {},
   "source": [
    "#### 1.Loading Libraries, Data"
   ]
  },
  {
   "cell_type": "code",
   "execution_count": null,
   "metadata": {},
   "outputs": [],
   "source": [
    "import numpy as np\n",
    "import pandas as pd\n",
    "import seaborn as sns\n",
    "from sklearn import metrics\n",
    "from sklearn.svm import SVR\n",
    "import statsmodels.api as sm\n",
    "import matplotlib.pyplot as plt\n",
    "from sklearn.tree import DecisionTreeRegressor\n",
    "from sklearn.preprocessing import StandardScaler\n",
    "from sklearn.linear_model import LinearRegression\n",
    "from sklearn.ensemble import RandomForestRegressor\n",
    "from sklearn.model_selection import train_test_split\n",
    "from sklearn.preprocessing import PolynomialFeatures"
   ]
  },
  {
   "cell_type": "code",
   "execution_count": null,
   "metadata": {},
   "outputs": [],
   "source": [
    "df=pd.read_csv('ENB2012_data.csv')"
   ]
  },
  {
   "cell_type": "markdown",
   "metadata": {},
   "source": [
    "#### 2.Data Summary"
   ]
  },
  {
   "cell_type": "code",
   "execution_count": null,
   "metadata": {},
   "outputs": [],
   "source": [
    "df.head()"
   ]
  },
  {
   "cell_type": "code",
   "execution_count": null,
   "metadata": {},
   "outputs": [],
   "source": [
    "df.describe().T"
   ]
  },
  {
   "cell_type": "code",
   "execution_count": null,
   "metadata": {},
   "outputs": [],
   "source": [
    "df.info()"
   ]
  },
  {
   "cell_type": "markdown",
   "metadata": {},
   "source": [
    "#### 3.Duplicate, Missing and Outlier Data Detection"
   ]
  },
  {
   "cell_type": "code",
   "execution_count": null,
   "metadata": {},
   "outputs": [],
   "source": [
    "df.isnull().sum()"
   ]
  },
  {
   "cell_type": "code",
   "execution_count": null,
   "metadata": {},
   "outputs": [],
   "source": [
    "sum(df.duplicated())"
   ]
  },
  {
   "cell_type": "code",
   "execution_count": null,
   "metadata": {},
   "outputs": [],
   "source": [
    "def Outlier_Detect_SDM(dataframe):\n",
    "    Outlier_data_index = []\n",
    "    for a in dataframe.columns:\n",
    "        std = dataframe[a].std()\n",
    "        mean = dataframe[a].mean()\n",
    "        \n",
    "        lower_limit =mean - std*3\n",
    "        upper_limit =mean + std*3\n",
    "        \n",
    "        for outlier in dataframe[a].values:\n",
    "            if outlier > upper_limit or outlier < lower_limit:\n",
    "                anomalies.append(dataframe.index[dataframe[a]==outlier].tolist())\n",
    "    return Outlier_data_index"
   ]
  },
  {
   "cell_type": "code",
   "execution_count": null,
   "metadata": {},
   "outputs": [],
   "source": [
    "Outlier_Detect_SDM(df)"
   ]
  },
  {
   "cell_type": "markdown",
   "metadata": {},
   "source": [
    "#### 4.Multiple Linear Regression"
   ]
  },
  {
   "cell_type": "code",
   "execution_count": null,
   "metadata": {},
   "outputs": [],
   "source": [
    "X = df.iloc[:,:-2]\n",
    "y = df[[\"Heating_Load\",\"Cooling_Load\"]]"
   ]
  },
  {
   "cell_type": "code",
   "execution_count": null,
   "metadata": {},
   "outputs": [],
   "source": [
    "x_train , x_test , y_train , y_test = train_test_split(X , y , test_size=0.32 , random_state =25)"
   ]
  },
  {
   "cell_type": "code",
   "execution_count": null,
   "metadata": {},
   "outputs": [],
   "source": [
    "mlr=LinearRegression()\n",
    "mlr.fit(x_train, y_train)\n",
    "y_pred = mlr.predict(x_test)"
   ]
  },
  {
   "cell_type": "code",
   "execution_count": null,
   "metadata": {},
   "outputs": [],
   "source": [
    "mae = metrics.mean_absolute_error(y_test, y_pred)\n",
    "mse = metrics.mean_squared_error(y_test, y_pred)\n",
    "rmse = np.sqrt(mse)  \n",
    "r2 = metrics.r2_score(y_test,y_pred)\n",
    "\n",
    "print(\"Results of Multiple Linear Regression sklearn.metrics\")\n",
    "print(\"MAE:      \",round(mae,3))\n",
    "print(\"MSE:      \", round(mse,3))\n",
    "print(\"RMSE:     \", round(rmse,3))\n",
    "print(\"R-Squared:\", round(r2,3))"
   ]
  },
  {
   "cell_type": "code",
   "execution_count": null,
   "metadata": {},
   "outputs": [],
   "source": [
    "X_ols = sm.add_constant(X)\n",
    "model = sm.OLS(endog=y[[\"Heating_Load\"]],exog= X_ols[[\"const\",\"Relative_Compactness\",\"Surface_Area\",\"Wall_Area\",\"Roof_Area\",\"Overall_Height\",\"Orientation\",\"Glazing_Area\",\"Glazing_Area_Distribution\"]] ).fit()\n",
    "\n",
    "print(model.summary())"
   ]
  },
  {
   "cell_type": "markdown",
   "metadata": {},
   "source": [
    "##### p-value of Orientation is higher 0.05. Lets drop Orientation column using Backward Elimination Method."
   ]
  },
  {
   "cell_type": "code",
   "execution_count": null,
   "metadata": {},
   "outputs": [],
   "source": [
    "X_ols = sm.add_constant(X)\n",
    "model = sm.OLS(endog=y[[\"Heating_Load\"]],exog= X_ols[[\"const\",\"Relative_Compactness\",\"Surface_Area\",\"Wall_Area\",\"Roof_Area\",\"Overall_Height\",\"Glazing_Area\",\"Glazing_Area_Distribution\"]] ).fit()\n",
    "\n",
    "print(model.summary())"
   ]
  },
  {
   "cell_type": "markdown",
   "metadata": {},
   "source": [
    "#### 5.Polynomial Regression\n"
   ]
  },
  {
   "cell_type": "code",
   "execution_count": null,
   "metadata": {},
   "outputs": [],
   "source": [
    "poly_reg = PolynomialFeatures(degree=2, include_bias=False)\n",
    "x_poly = poly_reg.fit_transform(X)"
   ]
  },
  {
   "cell_type": "code",
   "execution_count": null,
   "metadata": {},
   "outputs": [],
   "source": [
    "x_train , x_test , y_train , y_test = train_test_split(x_poly, y, test_size=0.32 , random_state =61)"
   ]
  },
  {
   "cell_type": "code",
   "execution_count": null,
   "metadata": {},
   "outputs": [],
   "source": [
    "poly_linreg = LinearRegression()\n",
    "poly_linreg.fit(x_train,y_train)\n",
    "y_pred = poly_linreg.predict(x_test)"
   ]
  },
  {
   "cell_type": "code",
   "execution_count": null,
   "metadata": {},
   "outputs": [],
   "source": [
    "mae = metrics.mean_absolute_error(y_test, y_pred)\n",
    "mse = metrics.mean_squared_error(y_test, y_pred)\n",
    "rmse = np.sqrt(mse)  \n",
    "r2 = metrics.r2_score(y_test,y_pred)\n",
    "\n",
    "print(\"Results of Polynomial Regression sklearn.metrics\")\n",
    "print(\"MAE:      \",round(mae,3))\n",
    "print(\"MSE:      \", round(mse,3))\n",
    "print(\"RMSE:     \", round(rmse,3))\n",
    "print(\"R-Squared:\", round(r2,3))"
   ]
  },
  {
   "cell_type": "markdown",
   "metadata": {},
   "source": [
    "#### 6.Support Vector Machine Regression"
   ]
  },
  {
   "cell_type": "code",
   "execution_count": null,
   "metadata": {},
   "outputs": [],
   "source": [
    "X = df.iloc[:,:-2].values\n",
    "y= df[[\"Heating_Load\"]].values\n",
    "\n",
    "x_train, x_test, y_train, y_test  = train_test_split(X, y, test_size=0.28, random_state=0)"
   ]
  },
  {
   "cell_type": "code",
   "execution_count": null,
   "metadata": {},
   "outputs": [],
   "source": [
    "X_sc = StandardScaler()\n",
    "y_sc = StandardScaler()\n",
    "x_train = X_sc.fit_transform(x_train)\n",
    "y_train = y_sc.fit_transform(y_train).ravel()"
   ]
  },
  {
   "cell_type": "code",
   "execution_count": null,
   "metadata": {},
   "outputs": [],
   "source": [
    "regressor = SVR(kernel = 'rbf')\n",
    "regressor.fit(x_train, y_train)"
   ]
  },
  {
   "cell_type": "code",
   "execution_count": null,
   "metadata": {},
   "outputs": [],
   "source": [
    "y_pred = regressor.predict(X_sc.transform(x_test))\n",
    "y_pred= y_pred.reshape((len(y_pred), 1))\n",
    "y_pred = y_sc.inverse_transform(y_pred)"
   ]
  },
  {
   "cell_type": "code",
   "execution_count": null,
   "metadata": {},
   "outputs": [],
   "source": [
    "mae = metrics.mean_absolute_error(y_test, y_pred)\n",
    "mse = metrics.mean_squared_error(y_test, y_pred)\n",
    "rmse = np.sqrt(mse)  \n",
    "r2 = metrics.r2_score(y_test,y_pred)\n",
    "\n",
    "print(\"Results of Support Vector Machine Regression sklearn.metrics\")\n",
    "print(\"MAE:      \",round(mae,3))\n",
    "print(\"MSE:      \", round(mse,3))\n",
    "print(\"RMSE:     \", round(rmse,3))\n",
    "print(\"R-Squared:\", round(r2,3))"
   ]
  },
  {
   "cell_type": "markdown",
   "metadata": {},
   "source": [
    "#### 7.Decision Tree Regression"
   ]
  },
  {
   "cell_type": "code",
   "execution_count": null,
   "metadata": {},
   "outputs": [],
   "source": [
    "X = df.iloc[:,:-2].values\n",
    "y = df[[\"Heating_Load\",\"Cooling_Load\"]].values\n",
    "\n",
    "x_train, x_test, y_train, y_test  = train_test_split(X, y, test_size=0.25, random_state=0)"
   ]
  },
  {
   "cell_type": "code",
   "execution_count": null,
   "metadata": {},
   "outputs": [],
   "source": [
    "dt_reg = DecisionTreeRegressor(max_depth=4)\n",
    "dt_reg.fit(x_train,y_train)\n",
    "y_pred=dt_reg.predict(x_test)"
   ]
  },
  {
   "cell_type": "code",
   "execution_count": null,
   "metadata": {},
   "outputs": [],
   "source": [
    "mae = metrics.mean_absolute_error(y_test, y_pred)\n",
    "mse = metrics.mean_squared_error(y_test, y_pred)\n",
    "rmse = np.sqrt(mse) \n",
    "r2 = metrics.r2_score(y_test,y_pred)\n",
    "\n",
    "\n",
    "print(\"Results of Decision Tree Regression sklearn.metrics\")\n",
    "print(\"MAE:      \",round(mae,3))\n",
    "print(\"MSE:      \", round(mse,3))\n",
    "print(\"RMSE:     \", round(rmse,3))\n",
    "print(\"R-Squared:\", round(r2,3))"
   ]
  },
  {
   "cell_type": "markdown",
   "metadata": {},
   "source": [
    "#### 8.Random Forest Regression "
   ]
  },
  {
   "cell_type": "code",
   "execution_count": null,
   "metadata": {},
   "outputs": [],
   "source": [
    "X = df.iloc[:,:-2].values\n",
    "y = df[[\"Heating_Load\",\"Cooling_Load\"]].values\n",
    "\n",
    "\n",
    "x_train, x_test, y_train, y_test  = train_test_split(X, y, test_size=0.25, random_state=0)"
   ]
  },
  {
   "cell_type": "code",
   "execution_count": null,
   "metadata": {},
   "outputs": [],
   "source": [
    "rfr_reg = RandomForestRegressor(n_estimators=8,max_depth=3,bootstrap=True)\n",
    "rfr_reg.fit(x_train,y_train)\n",
    "y_pred = rfr_reg.predict(x_test)"
   ]
  },
  {
   "cell_type": "code",
   "execution_count": null,
   "metadata": {},
   "outputs": [],
   "source": [
    "mae = metrics.mean_absolute_error(y_test, y_pred)\n",
    "mse = metrics.mean_squared_error(y_test, y_pred)\n",
    "rmse = np.sqrt(mse) \n",
    "r2 = metrics.r2_score(y_test,y_pred)\n",
    "\n",
    "\n",
    "print(\"Results of Random Forest Regression  sklearn.metrics\")\n",
    "print(\"MAE:      \",round(mae,3))\n",
    "print(\"MSE:      \", round(mse,3))\n",
    "print(\"RMSE:     \", round(rmse,3))\n",
    "print(\"R-Squared:\", round(r2,3))"
   ]
  }
 ],
 "metadata": {
  "interpreter": {
   "hash": "beeca8c5093efd3c49f5d0cec04d06359b54b9730ed0693e0a3370516b4f3ccb"
  },
  "kernelspec": {
   "display_name": "Python 3.10.1 64-bit",
   "language": "python",
   "name": "python3"
  },
  "language_info": {
   "codemirror_mode": {
    "name": "ipython",
    "version": 3
   },
   "file_extension": ".py",
   "mimetype": "text/x-python",
   "name": "python",
   "nbconvert_exporter": "python",
   "pygments_lexer": "ipython3",
   "version": "3.10.1"
  },
  "orig_nbformat": 4
 },
 "nbformat": 4,
 "nbformat_minor": 2
}
