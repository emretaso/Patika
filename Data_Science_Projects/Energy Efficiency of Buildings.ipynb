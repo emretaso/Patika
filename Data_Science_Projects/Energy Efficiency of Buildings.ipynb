{
 "cells": [
  {
   "cell_type": "markdown",
   "metadata": {},
   "source": [
    "### Energy Efficiency of Buildings\n",
    " *We perform energy analysis using 12 different building shapes. The buildings differ with respect to the glazing area, the glazing area distribution, and the orientation, amongst other parameters. We simulate various settings as functions of the afore-mentioned characteristics to obtain 768 building shapes. The dataset comprises 768 samples and 8 features, aiming to predict heating and cooling value responses.*\n",
    "1. Loading Libraries and Data\n",
    "2. Data Summary \n",
    "3. Duplicate, Missing and Outlier Data Detection\n",
    "4. Multiple Linear Regression\n",
    "5. Polynomial Regression\n",
    "6. Support Vector Machine Regression\n",
    "7. Decision Tree Regression\n",
    "8. Random Forest Regression \n",
    "9. Conclusion\n",
    "\n",
    "\n",
    "\n"
   ]
  },
  {
   "cell_type": "markdown",
   "metadata": {},
   "source": [
    "#### 1.Loading Libraries and Data"
   ]
  },
  {
   "cell_type": "code",
   "execution_count": 1,
   "metadata": {},
   "outputs": [],
   "source": [
    "import numpy as np\n",
    "import pandas as pd\n",
    "import seaborn as sns\n",
    "from sklearn import metrics\n",
    "from sklearn.svm import SVR\n",
    "import statsmodels.api as sm\n",
    "import matplotlib.pyplot as plt\n",
    "from sklearn.tree import DecisionTreeRegressor\n",
    "from sklearn.preprocessing import StandardScaler\n",
    "from sklearn.linear_model import LinearRegression\n",
    "from sklearn.ensemble import RandomForestRegressor\n",
    "from sklearn.model_selection import train_test_split\n",
    "from sklearn.preprocessing import PolynomialFeatures"
   ]
  },
  {
   "cell_type": "code",
   "execution_count": 2,
   "metadata": {},
   "outputs": [],
   "source": [
    "df=pd.read_csv('ENB2012_data.csv')"
   ]
  },
  {
   "cell_type": "markdown",
   "metadata": {},
   "source": [
    "#### 2.Data Summary"
   ]
  },
  {
   "cell_type": "code",
   "execution_count": 3,
   "metadata": {},
   "outputs": [
    {
     "data": {
      "text/html": [
       "<div>\n",
       "<style scoped>\n",
       "    .dataframe tbody tr th:only-of-type {\n",
       "        vertical-align: middle;\n",
       "    }\n",
       "\n",
       "    .dataframe tbody tr th {\n",
       "        vertical-align: top;\n",
       "    }\n",
       "\n",
       "    .dataframe thead th {\n",
       "        text-align: right;\n",
       "    }\n",
       "</style>\n",
       "<table border=\"1\" class=\"dataframe\">\n",
       "  <thead>\n",
       "    <tr style=\"text-align: right;\">\n",
       "      <th></th>\n",
       "      <th>Relative_Compactness</th>\n",
       "      <th>Surface_Area</th>\n",
       "      <th>Wall_Area</th>\n",
       "      <th>Roof_Area</th>\n",
       "      <th>Overall_Height</th>\n",
       "      <th>Orientation</th>\n",
       "      <th>Glazing_Area</th>\n",
       "      <th>Glazing_Area_Distribution</th>\n",
       "      <th>Heating_Load</th>\n",
       "      <th>Cooling_Load</th>\n",
       "    </tr>\n",
       "  </thead>\n",
       "  <tbody>\n",
       "    <tr>\n",
       "      <th>0</th>\n",
       "      <td>0.98</td>\n",
       "      <td>514.5</td>\n",
       "      <td>294.0</td>\n",
       "      <td>110.25</td>\n",
       "      <td>7.0</td>\n",
       "      <td>2</td>\n",
       "      <td>0.0</td>\n",
       "      <td>0</td>\n",
       "      <td>15.55</td>\n",
       "      <td>21.33</td>\n",
       "    </tr>\n",
       "    <tr>\n",
       "      <th>1</th>\n",
       "      <td>0.98</td>\n",
       "      <td>514.5</td>\n",
       "      <td>294.0</td>\n",
       "      <td>110.25</td>\n",
       "      <td>7.0</td>\n",
       "      <td>3</td>\n",
       "      <td>0.0</td>\n",
       "      <td>0</td>\n",
       "      <td>15.55</td>\n",
       "      <td>21.33</td>\n",
       "    </tr>\n",
       "    <tr>\n",
       "      <th>2</th>\n",
       "      <td>0.98</td>\n",
       "      <td>514.5</td>\n",
       "      <td>294.0</td>\n",
       "      <td>110.25</td>\n",
       "      <td>7.0</td>\n",
       "      <td>4</td>\n",
       "      <td>0.0</td>\n",
       "      <td>0</td>\n",
       "      <td>15.55</td>\n",
       "      <td>21.33</td>\n",
       "    </tr>\n",
       "    <tr>\n",
       "      <th>3</th>\n",
       "      <td>0.98</td>\n",
       "      <td>514.5</td>\n",
       "      <td>294.0</td>\n",
       "      <td>110.25</td>\n",
       "      <td>7.0</td>\n",
       "      <td>5</td>\n",
       "      <td>0.0</td>\n",
       "      <td>0</td>\n",
       "      <td>15.55</td>\n",
       "      <td>21.33</td>\n",
       "    </tr>\n",
       "    <tr>\n",
       "      <th>4</th>\n",
       "      <td>0.90</td>\n",
       "      <td>563.5</td>\n",
       "      <td>318.5</td>\n",
       "      <td>122.50</td>\n",
       "      <td>7.0</td>\n",
       "      <td>2</td>\n",
       "      <td>0.0</td>\n",
       "      <td>0</td>\n",
       "      <td>20.84</td>\n",
       "      <td>28.28</td>\n",
       "    </tr>\n",
       "  </tbody>\n",
       "</table>\n",
       "</div>"
      ],
      "text/plain": [
       "   Relative_Compactness  Surface_Area  Wall_Area  Roof_Area  Overall_Height  \\\n",
       "0                  0.98         514.5      294.0     110.25             7.0   \n",
       "1                  0.98         514.5      294.0     110.25             7.0   \n",
       "2                  0.98         514.5      294.0     110.25             7.0   \n",
       "3                  0.98         514.5      294.0     110.25             7.0   \n",
       "4                  0.90         563.5      318.5     122.50             7.0   \n",
       "\n",
       "   Orientation  Glazing_Area  Glazing_Area_Distribution  Heating_Load  \\\n",
       "0            2           0.0                          0         15.55   \n",
       "1            3           0.0                          0         15.55   \n",
       "2            4           0.0                          0         15.55   \n",
       "3            5           0.0                          0         15.55   \n",
       "4            2           0.0                          0         20.84   \n",
       "\n",
       "   Cooling_Load  \n",
       "0         21.33  \n",
       "1         21.33  \n",
       "2         21.33  \n",
       "3         21.33  \n",
       "4         28.28  "
      ]
     },
     "execution_count": 3,
     "metadata": {},
     "output_type": "execute_result"
    }
   ],
   "source": [
    "df.head()"
   ]
  },
  {
   "cell_type": "code",
   "execution_count": 4,
   "metadata": {},
   "outputs": [
    {
     "data": {
      "text/html": [
       "<div>\n",
       "<style scoped>\n",
       "    .dataframe tbody tr th:only-of-type {\n",
       "        vertical-align: middle;\n",
       "    }\n",
       "\n",
       "    .dataframe tbody tr th {\n",
       "        vertical-align: top;\n",
       "    }\n",
       "\n",
       "    .dataframe thead th {\n",
       "        text-align: right;\n",
       "    }\n",
       "</style>\n",
       "<table border=\"1\" class=\"dataframe\">\n",
       "  <thead>\n",
       "    <tr style=\"text-align: right;\">\n",
       "      <th></th>\n",
       "      <th>count</th>\n",
       "      <th>mean</th>\n",
       "      <th>std</th>\n",
       "      <th>min</th>\n",
       "      <th>25%</th>\n",
       "      <th>50%</th>\n",
       "      <th>75%</th>\n",
       "      <th>max</th>\n",
       "    </tr>\n",
       "  </thead>\n",
       "  <tbody>\n",
       "    <tr>\n",
       "      <th>Relative_Compactness</th>\n",
       "      <td>768.0</td>\n",
       "      <td>0.764167</td>\n",
       "      <td>0.105777</td>\n",
       "      <td>0.62</td>\n",
       "      <td>0.6825</td>\n",
       "      <td>0.75</td>\n",
       "      <td>0.8300</td>\n",
       "      <td>0.98</td>\n",
       "    </tr>\n",
       "    <tr>\n",
       "      <th>Surface_Area</th>\n",
       "      <td>768.0</td>\n",
       "      <td>671.708333</td>\n",
       "      <td>88.086116</td>\n",
       "      <td>514.50</td>\n",
       "      <td>606.3750</td>\n",
       "      <td>673.75</td>\n",
       "      <td>741.1250</td>\n",
       "      <td>808.50</td>\n",
       "    </tr>\n",
       "    <tr>\n",
       "      <th>Wall_Area</th>\n",
       "      <td>768.0</td>\n",
       "      <td>318.500000</td>\n",
       "      <td>43.626481</td>\n",
       "      <td>245.00</td>\n",
       "      <td>294.0000</td>\n",
       "      <td>318.50</td>\n",
       "      <td>343.0000</td>\n",
       "      <td>416.50</td>\n",
       "    </tr>\n",
       "    <tr>\n",
       "      <th>Roof_Area</th>\n",
       "      <td>768.0</td>\n",
       "      <td>176.604167</td>\n",
       "      <td>45.165950</td>\n",
       "      <td>110.25</td>\n",
       "      <td>140.8750</td>\n",
       "      <td>183.75</td>\n",
       "      <td>220.5000</td>\n",
       "      <td>220.50</td>\n",
       "    </tr>\n",
       "    <tr>\n",
       "      <th>Overall_Height</th>\n",
       "      <td>768.0</td>\n",
       "      <td>5.250000</td>\n",
       "      <td>1.751140</td>\n",
       "      <td>3.50</td>\n",
       "      <td>3.5000</td>\n",
       "      <td>5.25</td>\n",
       "      <td>7.0000</td>\n",
       "      <td>7.00</td>\n",
       "    </tr>\n",
       "    <tr>\n",
       "      <th>Orientation</th>\n",
       "      <td>768.0</td>\n",
       "      <td>3.500000</td>\n",
       "      <td>1.118763</td>\n",
       "      <td>2.00</td>\n",
       "      <td>2.7500</td>\n",
       "      <td>3.50</td>\n",
       "      <td>4.2500</td>\n",
       "      <td>5.00</td>\n",
       "    </tr>\n",
       "    <tr>\n",
       "      <th>Glazing_Area</th>\n",
       "      <td>768.0</td>\n",
       "      <td>0.234375</td>\n",
       "      <td>0.133221</td>\n",
       "      <td>0.00</td>\n",
       "      <td>0.1000</td>\n",
       "      <td>0.25</td>\n",
       "      <td>0.4000</td>\n",
       "      <td>0.40</td>\n",
       "    </tr>\n",
       "    <tr>\n",
       "      <th>Glazing_Area_Distribution</th>\n",
       "      <td>768.0</td>\n",
       "      <td>2.812500</td>\n",
       "      <td>1.550960</td>\n",
       "      <td>0.00</td>\n",
       "      <td>1.7500</td>\n",
       "      <td>3.00</td>\n",
       "      <td>4.0000</td>\n",
       "      <td>5.00</td>\n",
       "    </tr>\n",
       "    <tr>\n",
       "      <th>Heating_Load</th>\n",
       "      <td>768.0</td>\n",
       "      <td>22.307201</td>\n",
       "      <td>10.090196</td>\n",
       "      <td>6.01</td>\n",
       "      <td>12.9925</td>\n",
       "      <td>18.95</td>\n",
       "      <td>31.6675</td>\n",
       "      <td>43.10</td>\n",
       "    </tr>\n",
       "    <tr>\n",
       "      <th>Cooling_Load</th>\n",
       "      <td>768.0</td>\n",
       "      <td>24.587760</td>\n",
       "      <td>9.513306</td>\n",
       "      <td>10.90</td>\n",
       "      <td>15.6200</td>\n",
       "      <td>22.08</td>\n",
       "      <td>33.1325</td>\n",
       "      <td>48.03</td>\n",
       "    </tr>\n",
       "  </tbody>\n",
       "</table>\n",
       "</div>"
      ],
      "text/plain": [
       "                           count        mean        std     min       25%  \\\n",
       "Relative_Compactness       768.0    0.764167   0.105777    0.62    0.6825   \n",
       "Surface_Area               768.0  671.708333  88.086116  514.50  606.3750   \n",
       "Wall_Area                  768.0  318.500000  43.626481  245.00  294.0000   \n",
       "Roof_Area                  768.0  176.604167  45.165950  110.25  140.8750   \n",
       "Overall_Height             768.0    5.250000   1.751140    3.50    3.5000   \n",
       "Orientation                768.0    3.500000   1.118763    2.00    2.7500   \n",
       "Glazing_Area               768.0    0.234375   0.133221    0.00    0.1000   \n",
       "Glazing_Area_Distribution  768.0    2.812500   1.550960    0.00    1.7500   \n",
       "Heating_Load               768.0   22.307201  10.090196    6.01   12.9925   \n",
       "Cooling_Load               768.0   24.587760   9.513306   10.90   15.6200   \n",
       "\n",
       "                              50%       75%     max  \n",
       "Relative_Compactness         0.75    0.8300    0.98  \n",
       "Surface_Area               673.75  741.1250  808.50  \n",
       "Wall_Area                  318.50  343.0000  416.50  \n",
       "Roof_Area                  183.75  220.5000  220.50  \n",
       "Overall_Height               5.25    7.0000    7.00  \n",
       "Orientation                  3.50    4.2500    5.00  \n",
       "Glazing_Area                 0.25    0.4000    0.40  \n",
       "Glazing_Area_Distribution    3.00    4.0000    5.00  \n",
       "Heating_Load                18.95   31.6675   43.10  \n",
       "Cooling_Load                22.08   33.1325   48.03  "
      ]
     },
     "execution_count": 4,
     "metadata": {},
     "output_type": "execute_result"
    }
   ],
   "source": [
    "df.describe().T"
   ]
  },
  {
   "cell_type": "code",
   "execution_count": 5,
   "metadata": {},
   "outputs": [
    {
     "name": "stdout",
     "output_type": "stream",
     "text": [
      "<class 'pandas.core.frame.DataFrame'>\n",
      "RangeIndex: 768 entries, 0 to 767\n",
      "Data columns (total 10 columns):\n",
      " #   Column                     Non-Null Count  Dtype  \n",
      "---  ------                     --------------  -----  \n",
      " 0   Relative_Compactness       768 non-null    float64\n",
      " 1   Surface_Area               768 non-null    float64\n",
      " 2   Wall_Area                  768 non-null    float64\n",
      " 3   Roof_Area                  768 non-null    float64\n",
      " 4   Overall_Height             768 non-null    float64\n",
      " 5   Orientation                768 non-null    int64  \n",
      " 6   Glazing_Area               768 non-null    float64\n",
      " 7   Glazing_Area_Distribution  768 non-null    int64  \n",
      " 8   Heating_Load               768 non-null    float64\n",
      " 9   Cooling_Load               768 non-null    float64\n",
      "dtypes: float64(8), int64(2)\n",
      "memory usage: 60.1 KB\n"
     ]
    }
   ],
   "source": [
    "df.info()"
   ]
  },
  {
   "cell_type": "markdown",
   "metadata": {},
   "source": [
    "#### 3.Duplicate, Missing and Outlier Data Detection"
   ]
  },
  {
   "cell_type": "code",
   "execution_count": 6,
   "metadata": {},
   "outputs": [
    {
     "data": {
      "text/plain": [
       "Relative_Compactness         0\n",
       "Surface_Area                 0\n",
       "Wall_Area                    0\n",
       "Roof_Area                    0\n",
       "Overall_Height               0\n",
       "Orientation                  0\n",
       "Glazing_Area                 0\n",
       "Glazing_Area_Distribution    0\n",
       "Heating_Load                 0\n",
       "Cooling_Load                 0\n",
       "dtype: int64"
      ]
     },
     "execution_count": 6,
     "metadata": {},
     "output_type": "execute_result"
    }
   ],
   "source": [
    "df.isnull().sum()"
   ]
  },
  {
   "cell_type": "code",
   "execution_count": 7,
   "metadata": {},
   "outputs": [
    {
     "data": {
      "text/plain": [
       "0"
      ]
     },
     "execution_count": 7,
     "metadata": {},
     "output_type": "execute_result"
    }
   ],
   "source": [
    "sum(df.duplicated())"
   ]
  },
  {
   "cell_type": "code",
   "execution_count": 8,
   "metadata": {},
   "outputs": [],
   "source": [
    "def Outlier_Detect_SDM(dataframe):\n",
    "    Outlier_data_index = []\n",
    "    for a in dataframe.columns:\n",
    "        std = dataframe[a].std()\n",
    "        mean = dataframe[a].mean()\n",
    "        \n",
    "        lower_limit =mean - std*3\n",
    "        upper_limit =mean + std*3\n",
    "        \n",
    "        for outlier in dataframe[a].values:\n",
    "            if outlier > upper_limit or outlier < lower_limit:\n",
    "                anomalies.append(dataframe.index[dataframe[a]==outlier].tolist())\n",
    "    return Outlier_data_index"
   ]
  },
  {
   "cell_type": "code",
   "execution_count": 9,
   "metadata": {},
   "outputs": [
    {
     "data": {
      "text/plain": [
       "[]"
      ]
     },
     "execution_count": 9,
     "metadata": {},
     "output_type": "execute_result"
    }
   ],
   "source": [
    "Outlier_Detect_SDM(df)"
   ]
  },
  {
   "cell_type": "markdown",
   "metadata": {},
   "source": [
    "#### 4.Multiple Linear Regression"
   ]
  },
  {
   "cell_type": "code",
   "execution_count": 10,
   "metadata": {},
   "outputs": [],
   "source": [
    "X = df.iloc[:,:-2]\n",
    "y = df[[\"Heating_Load\",\"Cooling_Load\"]]"
   ]
  },
  {
   "cell_type": "code",
   "execution_count": 11,
   "metadata": {},
   "outputs": [],
   "source": [
    "x_train , x_test , y_train , y_test = train_test_split(X , y , test_size=0.32 , random_state =25)"
   ]
  },
  {
   "cell_type": "code",
   "execution_count": 12,
   "metadata": {},
   "outputs": [],
   "source": [
    "mlr=LinearRegression()\n",
    "mlr.fit(x_train, y_train)\n",
    "y_pred = mlr.predict(x_test)"
   ]
  },
  {
   "cell_type": "code",
   "execution_count": 13,
   "metadata": {},
   "outputs": [],
   "source": [
    "all_errors = pd.DataFrame(columns=[\"Method\",'MAE', 'MSE', 'RMSE',\"R-Squared\"])"
   ]
  },
  {
   "cell_type": "code",
   "execution_count": 14,
   "metadata": {},
   "outputs": [
    {
     "name": "stdout",
     "output_type": "stream",
     "text": [
      "Results of Multiple Linear Regression sklearn.metrics\n",
      "MAE:       2.139\n",
      "MSE:       9.334\n",
      "RMSE:      3.055\n",
      "R-Squared: 0.903\n"
     ]
    },
    {
     "data": {
      "image/png": "[encoded data removed]",
      "text/plain": [
       "<Figure size 432x288 with 1 Axes>"
      ]
     },
     "metadata": {
      "needs_background": "light"
     },
     "output_type": "display_data"
    }
   ],
   "source": [
    "mae = metrics.mean_absolute_error(y_test, y_pred)\n",
    "mse = metrics.mean_squared_error(y_test, y_pred)\n",
    "rmse = np.sqrt(mse)  \n",
    "r2 = metrics.r2_score(y_test,y_pred)\n",
    "\n",
    "plt.scatter(y_test,y_pred,color='red')\n",
    "plt.plot(y_test,y_test,color='blue')\n",
    "\n",
    "all_errors = all_errors.append({'Method' : 'Multiple Linear', 'MAE' : mae, 'MSE' : mse, 'RMSE' : rmse, 'R-Squared' : r2},ignore_index = True)\n",
    "\n",
    "\n",
    "print(\"Results of Multiple Linear Regression sklearn.metrics\")\n",
    "print(\"MAE:      \",round(mae,3))\n",
    "print(\"MSE:      \", round(mse,3))\n",
    "print(\"RMSE:     \", round(rmse,3))\n",
    "print(\"R-Squared:\", round(r2,3))"
   ]
  },
  {
   "cell_type": "code",
   "execution_count": 15,
   "metadata": {},
   "outputs": [
    {
     "name": "stdout",
     "output_type": "stream",
     "text": [
      "                            OLS Regression Results                            \n",
      "==============================================================================\n",
      "Dep. Variable:           Heating_Load   R-squared:                       0.916\n",
      "Model:                            OLS   Adj. R-squared:                  0.915\n",
      "Method:                 Least Squares   F-statistic:                     1187.\n",
      "Date:                Mon, 31 Jan 2022   Prob (F-statistic):               0.00\n",
      "Time:                        03:01:07   Log-Likelihood:                -1912.5\n",
      "No. Observations:                 768   AIC:                             3841.\n",
      "Df Residuals:                     760   BIC:                             3878.\n",
      "Df Model:                           7                                         \n",
      "Covariance Type:            nonrobust                                         \n",
      "=============================================================================================\n",
      "                                coef    std err          t      P>|t|      [0.025      0.975]\n",
      "---------------------------------------------------------------------------------------------\n",
      "const                        84.0145     19.034      4.414      0.000      46.650     121.379\n",
      "Relative_Compactness        -64.7740     10.289     -6.295      0.000     -84.973     -44.575\n",
      "Surface_Area                 -0.0626      0.013     -4.670      0.000      -0.089      -0.036\n",
      "Wall_Area                     0.0361      0.004      9.386      0.000       0.029       0.044\n",
      "Roof_Area                    -0.0494      0.008     -6.569      0.000      -0.064      -0.035\n",
      "Overall_Height                4.1699      0.338     12.337      0.000       3.506       4.833\n",
      "Orientation                  -0.0233      0.095     -0.246      0.805      -0.209       0.163\n",
      "Glazing_Area                 19.9327      0.814     24.488      0.000      18.335      21.531\n",
      "Glazing_Area_Distribution     0.2038      0.070      2.914      0.004       0.067       0.341\n",
      "==============================================================================\n",
      "Omnibus:                       18.648   Durbin-Watson:                   0.654\n",
      "Prob(Omnibus):                  0.000   Jarque-Bera (JB):               37.708\n",
      "Skew:                           0.044   Prob(JB):                     6.48e-09\n",
      "Kurtosis:                       4.082   Cond. No.                     1.09e+16\n",
      "==============================================================================\n",
      "\n",
      "Notes:\n",
      "[1] Standard Errors assume that the covariance matrix of the errors is correctly specified.\n",
      "[2] The smallest eigenvalue is 3.8e-24. This might indicate that there are\n",
      "strong multicollinearity problems or that the design matrix is singular.\n"
     ]
    }
   ],
   "source": [
    "X_ols = sm.add_constant(X)\n",
    "model = sm.OLS(endog=y[[\"Heating_Load\"]],exog= X_ols[[\"const\",\"Relative_Compactness\",\"Surface_Area\",\"Wall_Area\",\"Roof_Area\",\"Overall_Height\",\"Orientation\",\"Glazing_Area\",\"Glazing_Area_Distribution\"]] ).fit()\n",
    "\n",
    "print(model.summary())"
   ]
  },
  {
   "cell_type": "markdown",
   "metadata": {},
   "source": [
    "##### p-value of Orientation is higher 0.05. Drop Orientation column using Backward Elimination Method."
   ]
  },
  {
   "cell_type": "code",
   "execution_count": 16,
   "metadata": {},
   "outputs": [
    {
     "name": "stdout",
     "output_type": "stream",
     "text": [
      "                            OLS Regression Results                            \n",
      "==============================================================================\n",
      "Dep. Variable:           Heating_Load   R-squared:                       0.916\n",
      "Model:                            OLS   Adj. R-squared:                  0.916\n",
      "Method:                 Least Squares   F-statistic:                     1387.\n",
      "Date:                Mon, 31 Jan 2022   Prob (F-statistic):               0.00\n",
      "Time:                        03:01:07   Log-Likelihood:                -1912.5\n",
      "No. Observations:                 768   AIC:                             3839.\n",
      "Df Residuals:                     761   BIC:                             3871.\n",
      "Df Model:                           6                                         \n",
      "Covariance Type:            nonrobust                                         \n",
      "=============================================================================================\n",
      "                                coef    std err          t      P>|t|      [0.025      0.975]\n",
      "---------------------------------------------------------------------------------------------\n",
      "const                        83.9329     19.019      4.413      0.000      46.597     121.269\n",
      "Relative_Compactness        -64.7740     10.283     -6.299      0.000     -84.961     -44.587\n",
      "Surface_Area                 -0.0626      0.013     -4.673      0.000      -0.089      -0.036\n",
      "Wall_Area                     0.0361      0.004      9.392      0.000       0.029       0.044\n",
      "Roof_Area                    -0.0494      0.008     -6.573      0.000      -0.064      -0.035\n",
      "Overall_Height                4.1699      0.338     12.345      0.000       3.507       4.833\n",
      "Glazing_Area                 19.9327      0.813     24.503      0.000      18.336      21.530\n",
      "Glazing_Area_Distribution     0.2038      0.070      2.916      0.004       0.067       0.341\n",
      "==============================================================================\n",
      "Omnibus:                       18.654   Durbin-Watson:                   0.654\n",
      "Prob(Omnibus):                  0.000   Jarque-Bera (JB):               37.740\n",
      "Skew:                           0.044   Prob(JB):                     6.38e-09\n",
      "Kurtosis:                       4.082   Cond. No.                     1.09e+16\n",
      "==============================================================================\n",
      "\n",
      "Notes:\n",
      "[1] Standard Errors assume that the covariance matrix of the errors is correctly specified.\n",
      "[2] The smallest eigenvalue is 3.81e-24. This might indicate that there are\n",
      "strong multicollinearity problems or that the design matrix is singular.\n"
     ]
    }
   ],
   "source": [
    "X_ols = sm.add_constant(X)\n",
    "model = sm.OLS(endog=y[[\"Heating_Load\"]],exog= X_ols[[\"const\",\"Relative_Compactness\",\"Surface_Area\",\"Wall_Area\",\"Roof_Area\",\"Overall_Height\",\"Glazing_Area\",\"Glazing_Area_Distribution\"]] ).fit()\n",
    "\n",
    "print(model.summary())"
   ]
  },
  {
   "cell_type": "markdown",
   "metadata": {},
   "source": [
    "#### 5.Polynomial Regression\n"
   ]
  },
  {
   "cell_type": "code",
   "execution_count": 17,
   "metadata": {},
   "outputs": [],
   "source": [
    "poly_reg = PolynomialFeatures(degree=3, include_bias=False)\n",
    "x_poly = poly_reg.fit_transform(X)"
   ]
  },
  {
   "cell_type": "code",
   "execution_count": 18,
   "metadata": {},
   "outputs": [],
   "source": [
    "x_train , x_test , y_train , y_test = train_test_split(x_poly, y, test_size=0.32 , random_state =61)"
   ]
  },
  {
   "cell_type": "code",
   "execution_count": 19,
   "metadata": {},
   "outputs": [],
   "source": [
    "poly_linreg = LinearRegression()\n",
    "poly_linreg.fit(x_train,y_train)\n",
    "y_pred = poly_linreg.predict(x_test)"
   ]
  },
  {
   "cell_type": "code",
   "execution_count": 20,
   "metadata": {},
   "outputs": [
    {
     "name": "stdout",
     "output_type": "stream",
     "text": [
      "Results of Polynomial Regression sklearn.metrics\n",
      "MAE:       0.955\n",
      "MSE:       2.03\n",
      "RMSE:      1.425\n",
      "R-Squared: 0.978\n"
     ]
    },
    {
     "data": {
      "image/png": "[encoded data removed]",
      "text/plain": [
       "<Figure size 432x288 with 1 Axes>"
      ]
     },
     "metadata": {
      "needs_background": "light"
     },
     "output_type": "display_data"
    }
   ],
   "source": [
    "mae = metrics.mean_absolute_error(y_test, y_pred)\n",
    "mse = metrics.mean_squared_error(y_test, y_pred)\n",
    "rmse = np.sqrt(mse)  \n",
    "r2 = metrics.r2_score(y_test,y_pred)\n",
    "\n",
    "plt.scatter(y_test,y_pred,color='red')\n",
    "plt.plot(y_test,y_test,color='blue')\n",
    "\n",
    "all_errors = all_errors.append({'Method' : 'Polynomial', 'MAE' : mae, 'MSE' : mse, 'RMSE' : rmse, 'R-Squared' : r2},ignore_index = True)\n",
    "\n",
    "print(\"Results of Polynomial Regression sklearn.metrics\")\n",
    "print(\"MAE:      \",round(mae,3))\n",
    "print(\"MSE:      \", round(mse,3))\n",
    "print(\"RMSE:     \", round(rmse,3))\n",
    "print(\"R-Squared:\", round(r2,3))"
   ]
  },
  {
   "cell_type": "markdown",
   "metadata": {},
   "source": [
    "#### 6.Support Vector Machine Regression"
   ]
  },
  {
   "cell_type": "code",
   "execution_count": 21,
   "metadata": {},
   "outputs": [],
   "source": [
    "X = df.iloc[:,:-2].values\n",
    "y= df[[\"Heating_Load\"]].values\n",
    "\n",
    "x_train, x_test, y_train, y_test  = train_test_split(X, y, test_size=0.28, random_state=0)"
   ]
  },
  {
   "cell_type": "code",
   "execution_count": 22,
   "metadata": {},
   "outputs": [],
   "source": [
    "X_sc = StandardScaler()\n",
    "y_sc = StandardScaler()\n",
    "x_train = X_sc.fit_transform(x_train)\n",
    "y_train = y_sc.fit_transform(y_train).ravel()"
   ]
  },
  {
   "cell_type": "code",
   "execution_count": 23,
   "metadata": {},
   "outputs": [
    {
     "data": {
      "text/plain": [
       "SVR()"
      ]
     },
     "execution_count": 23,
     "metadata": {},
     "output_type": "execute_result"
    }
   ],
   "source": [
    "regressor = SVR(kernel = 'rbf')\n",
    "regressor.fit(x_train, y_train)"
   ]
  },
  {
   "cell_type": "code",
   "execution_count": 24,
   "metadata": {},
   "outputs": [],
   "source": [
    "y_pred = regressor.predict(X_sc.transform(x_test))\n",
    "y_pred= y_pred.reshape((len(y_pred), 1))\n",
    "y_pred = y_sc.inverse_transform(y_pred)"
   ]
  },
  {
   "cell_type": "code",
   "execution_count": 25,
   "metadata": {},
   "outputs": [
    {
     "name": "stdout",
     "output_type": "stream",
     "text": [
      "Results of Support Vector Machine Regression sklearn.metrics\n",
      "MAE:       1.512\n",
      "MSE:       5.232\n",
      "RMSE:      2.287\n",
      "R-Squared: 0.95\n"
     ]
    },
    {
     "data": {
      "image/png": "[encoded data removed]",
      "text/plain": [
       "<Figure size 432x288 with 1 Axes>"
      ]
     },
     "metadata": {
      "needs_background": "light"
     },
     "output_type": "display_data"
    }
   ],
   "source": [
    "mae = metrics.mean_absolute_error(y_test, y_pred)\n",
    "mse = metrics.mean_squared_error(y_test, y_pred)\n",
    "rmse = np.sqrt(mse)  \n",
    "r2 = metrics.r2_score(y_test,y_pred)\n",
    "\n",
    "plt.scatter(y_test,y_pred,color='red')\n",
    "plt.plot(y_test,y_test,color='blue')\n",
    "\n",
    "all_errors = all_errors.append({'Method' : 'SVM', 'MAE' : mae, 'MSE' : mse, 'RMSE' : rmse, 'R-Squared' : r2},ignore_index = True)\n",
    "\n",
    "print(\"Results of Support Vector Machine Regression sklearn.metrics\")\n",
    "print(\"MAE:      \",round(mae,3))\n",
    "print(\"MSE:      \", round(mse,3))\n",
    "print(\"RMSE:     \", round(rmse,3))\n",
    "print(\"R-Squared:\", round(r2,3))"
   ]
  },
  {
   "cell_type": "markdown",
   "metadata": {},
   "source": [
    "#### 7.Decision Tree Regression"
   ]
  },
  {
   "cell_type": "code",
   "execution_count": 26,
   "metadata": {},
   "outputs": [],
   "source": [
    "X = df.iloc[:,:-2].values\n",
    "y = df[[\"Heating_Load\",\"Cooling_Load\"]].values\n",
    "\n",
    "x_train, x_test, y_train, y_test  = train_test_split(X, y, test_size=0.25, random_state=0)"
   ]
  },
  {
   "cell_type": "code",
   "execution_count": 27,
   "metadata": {},
   "outputs": [],
   "source": [
    "dt_reg = DecisionTreeRegressor(max_depth=4)\n",
    "dt_reg.fit(x_train,y_train)\n",
    "y_pred=dt_reg.predict(x_test)"
   ]
  },
  {
   "cell_type": "code",
   "execution_count": 28,
   "metadata": {},
   "outputs": [
    {
     "name": "stdout",
     "output_type": "stream",
     "text": [
      "Results of Decision Tree Regression sklearn.metrics\n",
      "MAE:       1.448\n",
      "MSE:       3.962\n",
      "RMSE:      1.99\n",
      "R-Squared: 0.959\n"
     ]
    },
    {
     "data": {
      "image/png": "[encoded data removed]",
      "text/plain": [
       "<Figure size 432x288 with 1 Axes>"
      ]
     },
     "metadata": {
      "needs_background": "light"
     },
     "output_type": "display_data"
    }
   ],
   "source": [
    "mae = metrics.mean_absolute_error(y_test, y_pred)\n",
    "mse = metrics.mean_squared_error(y_test, y_pred)\n",
    "rmse = np.sqrt(mse) \n",
    "r2 = metrics.r2_score(y_test,y_pred)\n",
    "\n",
    "plt.scatter(y_test,y_pred,color='red')\n",
    "plt.plot(y_test,y_test,color='blue')\n",
    "\n",
    "all_errors = all_errors.append({'Method' : 'Decision Tree', 'MAE' : mae, 'MSE' : mse, 'RMSE' : rmse, 'R-Squared' : r2},ignore_index = True)\n",
    "\n",
    "print(\"Results of Decision Tree Regression sklearn.metrics\")\n",
    "print(\"MAE:      \",round(mae,3))\n",
    "print(\"MSE:      \", round(mse,3))\n",
    "print(\"RMSE:     \", round(rmse,3))\n",
    "print(\"R-Squared:\", round(r2,3))"
   ]
  },
  {
   "cell_type": "markdown",
   "metadata": {},
   "source": [
    "#### 8.Random Forest Regression "
   ]
  },
  {
   "cell_type": "code",
   "execution_count": 29,
   "metadata": {},
   "outputs": [],
   "source": [
    "X = df.iloc[:,:-2].values\n",
    "y = df[[\"Heating_Load\",\"Cooling_Load\"]].values\n",
    "\n",
    "\n",
    "x_train, x_test, y_train, y_test  = train_test_split(X, y, test_size=0.25, random_state=0)"
   ]
  },
  {
   "cell_type": "code",
   "execution_count": 30,
   "metadata": {},
   "outputs": [],
   "source": [
    "rfr_reg = RandomForestRegressor(n_estimators=8,max_depth=4,bootstrap=True)\n",
    "rfr_reg.fit(x_train,y_train)\n",
    "y_pred = rfr_reg.predict(x_test)"
   ]
  },
  {
   "cell_type": "code",
   "execution_count": 31,
   "metadata": {},
   "outputs": [
    {
     "name": "stdout",
     "output_type": "stream",
     "text": [
      "Results of Random Forest Regression  sklearn.metrics\n",
      "MAE:       1.325\n",
      "MSE:       3.343\n",
      "RMSE:      1.828\n",
      "R-Squared: 0.965\n"
     ]
    },
    {
     "data": {
      "image/png": "[encoded data removed]",
      "text/plain": [
       "<Figure size 432x288 with 1 Axes>"
      ]
     },
     "metadata": {
      "needs_background": "light"
     },
     "output_type": "display_data"
    }
   ],
   "source": [
    "mae = metrics.mean_absolute_error(y_test, y_pred)\n",
    "mse = metrics.mean_squared_error(y_test, y_pred)\n",
    "rmse = np.sqrt(mse) \n",
    "r2 = metrics.r2_score(y_test,y_pred)\n",
    "\n",
    "plt.scatter(y_test,y_pred,color='red')\n",
    "plt.plot(y_test,y_test,color='blue')\n",
    "\n",
    "all_errors = all_errors.append({'Method' : 'Random Forest', 'MAE' : mae, 'MSE' : mse, 'RMSE' : rmse, 'R-Squared' : r2},ignore_index = True)\n",
    "\n",
    "\n",
    "print(\"Results of Random Forest Regression  sklearn.metrics\")\n",
    "print(\"MAE:      \",round(mae,3))\n",
    "print(\"MSE:      \", round(mse,3))\n",
    "print(\"RMSE:     \", round(rmse,3))\n",
    "print(\"R-Squared:\", round(r2,3))"
   ]
  },
  {
   "cell_type": "markdown",
   "metadata": {},
   "source": [
    "#### 9.Conclusion"
   ]
  },
  {
   "cell_type": "code",
   "execution_count": 32,
   "metadata": {},
   "outputs": [
    {
     "data": {
      "text/html": [
       "<div>\n",
       "<style scoped>\n",
       "    .dataframe tbody tr th:only-of-type {\n",
       "        vertical-align: middle;\n",
       "    }\n",
       "\n",
       "    .dataframe tbody tr th {\n",
       "        vertical-align: top;\n",
       "    }\n",
       "\n",
       "    .dataframe thead th {\n",
       "        text-align: right;\n",
       "    }\n",
       "</style>\n",
       "<table border=\"1\" class=\"dataframe\">\n",
       "  <thead>\n",
       "    <tr style=\"text-align: right;\">\n",
       "      <th></th>\n",
       "      <th>Method</th>\n",
       "      <th>MAE</th>\n",
       "      <th>MSE</th>\n",
       "      <th>RMSE</th>\n",
       "      <th>R-Squared</th>\n",
       "    </tr>\n",
       "  </thead>\n",
       "  <tbody>\n",
       "    <tr>\n",
       "      <th>0</th>\n",
       "      <td>Multiple Linear</td>\n",
       "      <td>2.139</td>\n",
       "      <td>9.334</td>\n",
       "      <td>3.055</td>\n",
       "      <td>0.903</td>\n",
       "    </tr>\n",
       "    <tr>\n",
       "      <th>1</th>\n",
       "      <td>Polynomial</td>\n",
       "      <td>0.955</td>\n",
       "      <td>2.030</td>\n",
       "      <td>1.425</td>\n",
       "      <td>0.978</td>\n",
       "    </tr>\n",
       "    <tr>\n",
       "      <th>2</th>\n",
       "      <td>SVM</td>\n",
       "      <td>1.512</td>\n",
       "      <td>5.232</td>\n",
       "      <td>2.287</td>\n",
       "      <td>0.950</td>\n",
       "    </tr>\n",
       "    <tr>\n",
       "      <th>3</th>\n",
       "      <td>Decision Tree</td>\n",
       "      <td>1.448</td>\n",
       "      <td>3.962</td>\n",
       "      <td>1.990</td>\n",
       "      <td>0.959</td>\n",
       "    </tr>\n",
       "    <tr>\n",
       "      <th>4</th>\n",
       "      <td>Random Forest</td>\n",
       "      <td>1.325</td>\n",
       "      <td>3.343</td>\n",
       "      <td>1.828</td>\n",
       "      <td>0.965</td>\n",
       "    </tr>\n",
       "  </tbody>\n",
       "</table>\n",
       "</div>"
      ],
      "text/plain": [
       "            Method    MAE    MSE   RMSE  R-Squared\n",
       "0  Multiple Linear  2.139  9.334  3.055      0.903\n",
       "1       Polynomial  0.955  2.030  1.425      0.978\n",
       "2              SVM  1.512  5.232  2.287      0.950\n",
       "3    Decision Tree  1.448  3.962  1.990      0.959\n",
       "4    Random Forest  1.325  3.343  1.828      0.965"
      ]
     },
     "execution_count": 32,
     "metadata": {},
     "output_type": "execute_result"
    }
   ],
   "source": [
    "round(all_errors,3)"
   ]
  },
  {
   "cell_type": "code",
   "execution_count": 33,
   "metadata": {},
   "outputs": [
    {
     "data": {
      "text/plain": [
       "<matplotlib.legend.Legend at 0x26cee259960>"
      ]
     },
     "execution_count": 33,
     "metadata": {},
     "output_type": "execute_result"
    },
    {
     "data": {
      "image/png": "[encoded data removed]",
      "text/plain": [
       "<Figure size 1368x576 with 1 Axes>"
      ]
     },
     "metadata": {
      "needs_background": "light"
     },
     "output_type": "display_data"
    }
   ],
   "source": [
    "font = {'family':'serif','color':'darkred','size':21}\n",
    "font1 = {'family':'serif','color':'darkred','size':16}\n",
    "\n",
    "plt.figure(figsize=(19,8))\n",
    "plt.xlabel(\"Methods\" , fontdict = font1)\n",
    "plt.ylabel(\"Error\" , fontdict = font1)\n",
    "plt.title(\"Summary\", fontdict = font)\n",
    "plt.grid(color = 'grey', linestyle = '--', linewidth = 0.8)\n",
    "plt.xticks(size = 13)\n",
    "plt.yticks(size = 13)\n",
    "\n",
    "\n",
    "\n",
    "plt.plot(all_errors[\"Method\"],all_errors[\"MAE\"],marker = '*',label ='MAE')\n",
    "plt.plot(all_errors[\"Method\"],all_errors[\"MSE\"],marker = '*',label ='MSE')\n",
    "plt.plot(all_errors[\"Method\"],all_errors[\"RMSE\"],marker = '*',label ='RMSE')\n",
    "plt.plot(all_errors[\"Method\"],all_errors[\"R-Squared\"],marker = '*',label ='R-Squared')\n",
    "plt.legend(prop={'size': 13})\n"
   ]
  },
  {
   "cell_type": "markdown",
   "metadata": {},
   "source": [
    "#### After completion of prediction models, it can be easily seen above graph that Random Forest Regression and Polynomial Regression give us the best results."
   ]
  }
 ],
 "metadata": {
  "interpreter": {
   "hash": "beeca8c5093efd3c49f5d0cec04d06359b54b9730ed0693e0a3370516b4f3ccb"
  },
  "kernelspec": {
   "display_name": "Python 3.10.1 64-bit",
   "language": "python",
   "name": "python3"
  },
  "language_info": {
   "codemirror_mode": {
    "name": "ipython",
    "version": 3
   },
   "file_extension": ".py",
   "mimetype": "text/x-python",
   "name": "python",
   "nbconvert_exporter": "python",
   "pygments_lexer": "ipython3",
   "version": "3.10.1"
  },
  "orig_nbformat": 4
 },
 "nbformat": 4,
 "nbformat_minor": 2
}
